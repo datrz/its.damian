{
  "cells": [
    {
      "cell_type": "markdown",
      "metadata": {
        "id": "view-in-github",
        "colab_type": "text"
      },
      "source": [
        "<a href=\"https://colab.research.google.com/github/datrz/its.damian/blob/main/Assignment_cnn_Best_Score.ipynb\" target=\"_parent\"><img src=\"https://colab.research.google.com/assets/colab-badge.svg\" alt=\"Open In Colab\"/></a>"
      ]
    },
    {
      "cell_type": "markdown",
      "metadata": {
        "id": "9qj8EhuBxTHD"
      },
      "source": [
        "# Assignment - CNNs\n",
        "\n",
        "In this assignment from Applied Machine Learning course, we needed to use convolutional neural networks to predict values in a classification problem with ten classes. The images have shape 96x96 and are in color.\n",
        "\n",
        "When I was done, I needed to submit the results on the Kaggle webpage for the in class competition. I could submit 5 times every day, so you can experiment with different infrastructures."
      ]
    },
    {
      "cell_type": "markdown",
      "metadata": {
        "id": "PAe3S5uZxTHN"
      },
      "source": [
        "# Kaggle\n",
        "\n",
        "The assignment used Kaggle. We could use it to submit the predictions. It  then gave a score (based on **some** of the test data)."
      ]
    },
    {
      "cell_type": "markdown",
      "source": [
        "# Result\n",
        "\n",
        "I ended up winning this competition among 15 other teams in class, ending up with accuracy of 0.57599 on Test data."
      ],
      "metadata": {
        "id": "8NdZb7Wm76z2"
      }
    },
    {
      "cell_type": "markdown",
      "source": [
        "# Model structure\n",
        "Import data from google drive"
      ],
      "metadata": {
        "id": "X69IoWvS6cqn"
      }
    },
    {
      "cell_type": "code",
      "source": [
        "from google.colab import drive\n",
        "drive.mount('/content/drive')"
      ],
      "metadata": {
        "colab": {
          "base_uri": "https://localhost:8080/"
        },
        "id": "4mUbAjEqxXuR",
        "outputId": "7b3f1580-9007-44aa-b832-df5b256aa654"
      },
      "execution_count": 4,
      "outputs": [
        {
          "output_type": "stream",
          "name": "stdout",
          "text": [
            "Mounted at /content/drive\n"
          ]
        }
      ]
    },
    {
      "cell_type": "code",
      "execution_count": 5,
      "metadata": {
        "id": "WH5-vGirxTHO"
      },
      "outputs": [],
      "source": [
        "import tensorflow as tf\n",
        "import numpy as np\n",
        "import pandas as pd\n",
        "from sklearn.model_selection import train_test_split\n",
        "from tensorflow.keras.preprocessing.image import ImageDataGenerator\n",
        "from matplotlib import pyplot as plt\n",
        "\n",
        "%matplotlib inline"
      ]
    },
    {
      "cell_type": "code",
      "execution_count": 6,
      "metadata": {
        "id": "45pS8OjzxTHP",
        "colab": {
          "base_uri": "https://localhost:8080/"
        },
        "outputId": "a20d614e-bf91-42cf-f7a6-96ccf5f1c73e"
      },
      "outputs": [
        {
          "output_type": "stream",
          "name": "stdout",
          "text": [
            "(2000, 96, 96, 3) (1000, 96, 96, 3) (2000,)\n"
          ]
        }
      ],
      "source": [
        "# Load data (must be in same folder as this file, which it will be if you simply unzip the assignment).\n",
        "# Note that we don't have any y_test! This way you cannot \"cheat\"!\n",
        "x_train = np.load('/content/drive/MyDrive/ColabNotebooks/APPLIED MACHINE LEARNING/Assignment8/x_train.npy')\n",
        "x_test = np.load('/content/drive/MyDrive/ColabNotebooks/APPLIED MACHINE LEARNING/Assignment8/x_test.npy')\n",
        "y_train = np.load('/content/drive/MyDrive/ColabNotebooks/APPLIED MACHINE LEARNING/Assignment8/y_train.npy')\n",
        "\n",
        "x_train = x_train / 255\n",
        "x_test = x_test / 255\n",
        "\n",
        "print(x_train.shape, x_test.shape, y_train.shape)"
      ]
    },
    {
      "cell_type": "markdown",
      "source": [
        "Preview of images"
      ],
      "metadata": {
        "id": "c6PAGHb0_d1c"
      }
    },
    {
      "cell_type": "code",
      "source": [
        "for i in range(9):\n",
        "\t# define subplot\n",
        "  plt.subplot(3,3,i+1)\n",
        "  \n",
        "  plt.title(\"Class: \"+str(y_train[i]), fontsize = '10')\n",
        "\n",
        "\t# plot raw pixel data\n",
        "  plt.tight_layout()\n",
        "  plt.imshow(x_train[i], cmap=plt.get_cmap('gray'))\n",
        "\n",
        "# show the figure\n",
        "plt.show()"
      ],
      "metadata": {
        "colab": {
          "base_uri": "https://localhost:8080/",
          "height": 297
        },
        "id": "mst4eBXO8O3t",
        "outputId": "07696663-55e6-45b2-d422-52f17164ef5a"
      },
      "execution_count": 35,
      "outputs": [
        {
          "output_type": "display_data",
          "data": {
            "text/plain": [
              "<Figure size 432x288 with 9 Axes>"
            ],
            "image/png": "[encoded data removed]"
          },
          "metadata": {
            "needs_background": "light"
          }
        }
      ]
    },
    {
      "cell_type": "markdown",
      "source": [
        "# CNN\n",
        "Training the network on provided training set"
      ],
      "metadata": {
        "id": "cgyk_RDM6gfw"
      }
    },
    {
      "cell_type": "code",
      "execution_count": null,
      "metadata": {
        "id": "jUhBR_xjxTHQ",
        "colab": {
          "base_uri": "https://localhost:8080/"
        },
        "outputId": "bf819763-ef56-42bc-d19f-d31a00f4a2ca"
      },
      "outputs": [
        {
          "output_type": "stream",
          "name": "stdout",
          "text": [
            "Model: \"sequential_1\"\n",
            "_________________________________________________________________\n",
            " Layer (type)                Output Shape              Param #   \n",
            "=================================================================\n",
            " conv2d_4 (Conv2D)           (None, 94, 94, 32)        896       \n",
            "                                                                 \n",
            " max_pooling2d_3 (MaxPooling  (None, 47, 47, 32)       0         \n",
            " 2D)                                                             \n",
            "                                                                 \n",
            " conv2d_5 (Conv2D)           (None, 45, 45, 64)        18496     \n",
            "                                                                 \n",
            " max_pooling2d_4 (MaxPooling  (None, 22, 22, 64)       0         \n",
            " 2D)                                                             \n",
            "                                                                 \n",
            " conv2d_6 (Conv2D)           (None, 20, 20, 128)       73856     \n",
            "                                                                 \n",
            " max_pooling2d_5 (MaxPooling  (None, 10, 10, 128)      0         \n",
            " 2D)                                                             \n",
            "                                                                 \n",
            " conv2d_7 (Conv2D)           (None, 8, 8, 256)         295168    \n",
            "                                                                 \n",
            " global_average_pooling2d_1   (None, 256)              0         \n",
            " (GlobalAveragePooling2D)                                        \n",
            "                                                                 \n",
            " dense_10 (Dense)            (None, 512)               131584    \n",
            "                                                                 \n",
            " batch_normalization_6 (Batc  (None, 512)              2048      \n",
            " hNormalization)                                                 \n",
            "                                                                 \n",
            " dense_11 (Dense)            (None, 512)               262656    \n",
            "                                                                 \n",
            " batch_normalization_7 (Batc  (None, 512)              2048      \n",
            " hNormalization)                                                 \n",
            "                                                                 \n",
            " dense_12 (Dense)            (None, 512)               262656    \n",
            "                                                                 \n",
            " batch_normalization_8 (Batc  (None, 512)              2048      \n",
            " hNormalization)                                                 \n",
            "                                                                 \n",
            " dense_13 (Dense)            (None, 512)               262656    \n",
            "                                                                 \n",
            " batch_normalization_9 (Batc  (None, 512)              2048      \n",
            " hNormalization)                                                 \n",
            "                                                                 \n",
            " dense_14 (Dense)            (None, 512)               262656    \n",
            "                                                                 \n",
            " batch_normalization_10 (Bat  (None, 512)              2048      \n",
            " chNormalization)                                                \n",
            "                                                                 \n",
            " dense_15 (Dense)            (None, 512)               262656    \n",
            "                                                                 \n",
            " batch_normalization_11 (Bat  (None, 512)              2048      \n",
            " chNormalization)                                                \n",
            "                                                                 \n",
            " dense_16 (Dense)            (None, 512)               262656    \n",
            "                                                                 \n",
            " dense_17 (Dense)            (None, 256)               131328    \n",
            "                                                                 \n",
            " dense_18 (Dense)            (None, 128)               32896     \n",
            "                                                                 \n",
            " dense_19 (Dense)            (None, 10)                1290      \n",
            "                                                                 \n",
            "=================================================================\n",
            "Total params: 2,273,738\n",
            "Trainable params: 2,267,594\n",
            "Non-trainable params: 6,144\n",
            "_________________________________________________________________\n"
          ]
        },
        {
          "output_type": "stream",
          "name": "stderr",
          "text": [
            "/usr/local/lib/python3.7/dist-packages/keras/optimizers/optimizer_v2/adam.py:110: UserWarning: The `lr` argument is deprecated, use `learning_rate` instead.\n",
            "  super(Adam, self).__init__(name, **kwargs)\n"
          ]
        }
      ],
      "source": [
        "model = tf.keras.models.Sequential([\n",
        "    tf.keras.layers.Conv2D(filters=32, kernel_size=(3, 3), activation='relu', input_shape=(96, 96, 3)),\n",
        "    tf.keras.layers.MaxPooling2D(pool_size=(2, 2)),\n",
        "    tf.keras.layers.Conv2D(filters=64, kernel_size=(3, 3), activation='relu'),\n",
        "    tf.keras.layers.MaxPooling2D(pool_size=(2, 2)),\n",
        "    tf.keras.layers.Conv2D(filters=128, kernel_size=(3, 3), activation='relu'),\n",
        "    tf.keras.layers.MaxPooling2D(pool_size=(2, 2)),\n",
        "    tf.keras.layers.Conv2D(filters=256, kernel_size=(3, 3), activation='relu'),\n",
        "#    tf.keras.layers.Flatten(),\n",
        "    tf.keras.layers.GlobalAveragePooling2D(),\n",
        "    tf.keras.layers.Dense(512, activation='LeakyReLU'),\n",
        "    tf.keras.layers.BatchNormalization(),\n",
        "    tf.keras.layers.Dense(512, activation='LeakyReLU'),\n",
        "    tf.keras.layers.BatchNormalization(),\n",
        "    tf.keras.layers.Dense(512, activation='LeakyReLU'),\n",
        "    tf.keras.layers.BatchNormalization(),\n",
        "    tf.keras.layers.Dense(512, activation='LeakyReLU'),\n",
        "    tf.keras.layers.BatchNormalization(),\n",
        "    tf.keras.layers.Dense(512, activation='LeakyReLU'),\n",
        "    tf.keras.layers.BatchNormalization(),\n",
        "    tf.keras.layers.Dense(512, activation='LeakyReLU'),\n",
        "# best performing model until now    \n",
        "    tf.keras.layers.BatchNormalization(),\n",
        "    tf.keras.layers.Dense(512, activation='LeakyReLU'),\n",
        "    tf.keras.layers.Dense(256, activation='LeakyReLU'),\n",
        "    tf.keras.layers.Dense(128, activation='LeakyReLU'),\n",
        "    tf.keras.layers.Dense(10, activation='softmax')\n",
        "    ])\n",
        "model.compile(\n",
        "    loss='sparse_categorical_crossentropy',\n",
        "    optimizer=tf.keras.optimizers.Adam(lr=0.001),\n",
        "    metrics=['accuracy'],\n",
        "    )\n",
        "model.summary()\n",
        "model.fit(x_train, y_train, epochs=100)"
      ]
    },
    {
      "cell_type": "markdown",
      "source": [
        "Training the model on data generated by ImageDataGenerator with either horizontal flip or vertical flip, and then different shifts."
      ],
      "metadata": {
        "id": "SzMow4l-7EbG"
      }
    },
    {
      "cell_type": "code",
      "source": [
        "for i in [True,False]:\n",
        "  for j in [0.5,0.4,0.3,0.2]:\n",
        "    datagen = ImageDataGenerator(\n",
        "        horizontal_flip=i,\n",
        "        vertical_flip=(not i),\n",
        "  #      width_shift_range=j,\n",
        "        height_shift_range=j,\n",
        "        validation_split=0.2\n",
        "        )\n",
        "\n",
        "    datagen.fit(x_train)\n",
        "    \n",
        "    model.fit(datagen.flow(x_train, y_train, batch_size=32, subset='training'), epochs=40)\n",
        "\n",
        "for i in [True,False]:\n",
        "  for j in [0.5,0.4,0.3,0.2]:\n",
        "    datagen = ImageDataGenerator(\n",
        "        horizontal_flip=i,\n",
        "        vertical_flip=(not i),\n",
        "        width_shift_range=j,\n",
        "  #      height_shift_range=j,\n",
        "        validation_split=0.2\n",
        "        )\n",
        "\n",
        "    datagen.fit(x_train)\n",
        "    \n",
        "    model.fit(datagen.flow(x_train, y_train, batch_size=32, subset='training'), epochs=40)    "
      ],
      "metadata": {
        "id": "EoQTyeW5sNlF"
      },
      "execution_count": null,
      "outputs": []
    },
    {
      "cell_type": "markdown",
      "source": [
        "Training on both horizontal and vertical flips and width/height shifts"
      ],
      "metadata": {
        "id": "B68JRRjI7YtU"
      }
    },
    {
      "cell_type": "code",
      "source": [
        "for i in [True,False]:\n",
        "  for j in [0.5,0.4,0.3,0.2]:\n",
        "    datagen = ImageDataGenerator(\n",
        "        horizontal_flip=i,\n",
        "        vertical_flip=i,\n",
        "        width_shift_range=j,\n",
        "        height_shift_range=j,\n",
        "        validation_split=0.2\n",
        "        )\n",
        "\n",
        "    datagen.fit(x_train)\n",
        "    \n",
        "    model.fit(datagen.flow(x_train, y_train, batch_size=32, subset='training'), epochs=40)"
      ],
      "metadata": {
        "id": "yYBd7yy_sTCj"
      },
      "execution_count": null,
      "outputs": []
    },
    {
      "cell_type": "markdown",
      "metadata": {
        "id": "47boesmsxTHR"
      },
      "source": [
        "The below code makes predictions and then saves them (after checking they are in correct format).\n",
        "\n",
        "It converts to appropriate $\\texttt{.csv}$ for Kaggle submit."
      ]
    },
    {
      "cell_type": "code",
      "execution_count": null,
      "metadata": {
        "id": "Kt-5z0vuxTHS",
        "colab": {
          "base_uri": "https://localhost:8080/"
        },
        "outputId": "cedc400e-27f0-424a-8542-a4e8a77b9bcc"
      },
      "outputs": [
        {
          "output_type": "stream",
          "name": "stdout",
          "text": [
            "32/32 [==============================] - 1s 16ms/step\n"
          ]
        }
      ],
      "source": [
        "y_test_hat = model.predict(x_test)\n",
        "y_test_hat_pd = pd.DataFrame({\n",
        "    'Id': list(range(1000)),\n",
        "    'Predicted': y_test_hat.argmax(axis=1),\n",
        "})"
      ]
    },
    {
      "cell_type": "code",
      "execution_count": null,
      "metadata": {
        "id": "iadl41FUxTHT"
      },
      "outputs": [],
      "source": [
        "# After you make your predictions, you should submit them on the Kaggle webpage for our competition.\n",
        "\n",
        "# Below is a small check that your output has the right type and shape\n",
        "assert isinstance(y_test_hat_pd, pd.DataFrame)\n",
        "assert all(y_test_hat_pd.columns == ['Id', 'Predicted'])\n",
        "assert len(y_test_hat_pd) == 1000\n",
        "\n",
        "# If you pass the checks, the file is saved.\n",
        "y_test_hat_pd.to_csv('y_test_hat.csv', index=False)"
      ]
    }
  ],
  "metadata": {
    "kernelspec": {
      "display_name": "Python 3",
      "language": "python",
      "name": "python3"
    },
    "language_info": {
      "codemirror_mode": {
        "name": "ipython",
        "version": 3
      },
      "file_extension": ".py",
      "mimetype": "text/x-python",
      "name": "python",
      "nbconvert_exporter": "python",
      "pygments_lexer": "ipython3",
      "version": "3.10.4"
    },
    "colab": {
      "provenance": [],
      "include_colab_link": true
    },
    "accelerator": "GPU",
    "gpuClass": "standard"
  },
  "nbformat": 4,
  "nbformat_minor": 0
}